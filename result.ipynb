{
 "cells": [
  {
   "cell_type": "code",
   "execution_count": 1,
   "id": "7b731f4b",
   "metadata": {},
   "outputs": [],
   "source": [
    "import os\n",
    "import glob\n",
    "import re\n",
    "import pandas as pd\n",
    "from pandas.api.types import CategoricalDtype\n",
    "import numpy as np"
   ]
  },
  {
   "cell_type": "code",
   "execution_count": 2,
   "id": "0fead129",
   "metadata": {},
   "outputs": [],
   "source": [
    "def get_log(folder_path):\n",
    "    log_files = glob.glob(os.path.join(folder_path, '*.log'))\n",
    "    if not log_files:\n",
    "        return None\n",
    "    latest_file = max(log_files, key=os.path.getmtime)\n",
    "    return latest_file\n",
    "\n",
    "def read_log(log_path):\n",
    "    with open(log_path) as f:\n",
    "        content=f.readlines()[::-1]\n",
    "        for line in content:\n",
    "            if \" - Average:\" in line:\n",
    "                return line[31:-1]"
   ]
  },
  {
   "cell_type": "code",
   "execution_count": 3,
   "id": "fd771231",
   "metadata": {},
   "outputs": [],
   "source": [
    "names=[\"STGCN\",\"GWNET\",\"ASTGCN\",\"AGCRN\",\"STGODE\",\"STTN\",\"DCRNN\",\"DSTAGNN\",\"LSTM\",\"TrustEnergy\"]\n",
    "metrics=[\"MAE\",\"RMSE\",\"MAPE\",\"MPIW\",\"WINK\",\"COV\"]\n",
    "datasets=[\"NYISO\",\"CAISO\"]\n",
    "cat_type = CategoricalDtype(categories=names, ordered=True)"
   ]
  },
  {
   "cell_type": "code",
   "execution_count": 4,
   "id": "9e41b4a2",
   "metadata": {},
   "outputs": [],
   "source": [
    "names=[\"ARIMA\",\"SARIMA\"]\n",
    "metrics=[\"MSE\",\"MAE\"]\n",
    "datasets=[\"sz_taxi_od\",\"sz_bike_od\",\"sz_subway_od\",] #\n",
    "cat_type = CategoricalDtype(categories=names, ordered=True)"
   ]
  },
  {
   "cell_type": "code",
   "execution_count": 5,
   "id": "da6c2f0c",
   "metadata": {},
   "outputs": [],
   "source": [
    "names=[\"HA_OD\",\"HL_OD\",\"ARIMA\",\"SARIMA\",\"LSTM_OD\",\"GMEL\",\"GWNET_OD\",\"STGCN_OD\",\"HMDLF\",\"MPGCN_OD\",\"STZINB\",\"STTN\",\"AGCRN_OD\",\"ASTGCN_OD\",\"STGODE_OD\",\"ODMixer\"]\n",
    "metrics=[\"MSE\",\"MAE\"]\n",
    "datasets=[\"sz_taxi_od\",\"sz_bike_od\",\"sz_subway_od\",] #\n",
    "cat_type = CategoricalDtype(categories=names, ordered=True)"
   ]
  },
  {
   "cell_type": "code",
   "execution_count": 6,
   "id": "9b3fdcff",
   "metadata": {},
   "outputs": [
    {
     "name": "stdout",
     "output_type": "stream",
     "text": [
      "         Dataset      Model     MSE    MAE\n",
      "1     sz_bike_od      HA_OD   3.653  0.068\n",
      "4     sz_bike_od      HL_OD   2.788  0.156\n",
      "7     sz_bike_od      ARIMA   3.199  0.071\n",
      "10    sz_bike_od    LSTM_OD   6.139  0.176\n",
      "13    sz_bike_od       GMEL   6.336  0.279\n",
      "16    sz_bike_od   GWNET_OD   0.784  0.132\n",
      "19    sz_bike_od   STGCN_OD   3.053  0.184\n",
      "22    sz_bike_od      HMDLF   6.561  0.217\n",
      "25    sz_bike_od     STZINB   0.885  0.129\n",
      "28    sz_bike_od   AGCRN_OD   1.095  0.180\n",
      "31    sz_bike_od  ASTGCN_OD   1.502  0.188\n",
      "34    sz_bike_od  STGODE_OD   2.608  0.219\n",
      "37    sz_bike_od    ODMixer   3.476  0.314\n",
      "2   sz_subway_od      HA_OD  10.488  0.138\n",
      "5   sz_subway_od      HL_OD   9.330  0.244\n",
      "8   sz_subway_od      ARIMA  10.522  0.134\n",
      "11  sz_subway_od    LSTM_OD  10.188  0.215\n",
      "14  sz_subway_od       GMEL  10.590  0.259\n",
      "17  sz_subway_od   GWNET_OD   1.382  0.080\n",
      "20  sz_subway_od   STGCN_OD   6.545  0.210\n",
      "23  sz_subway_od      HMDLF  10.897  0.245\n",
      "26  sz_subway_od     STZINB   2.123  0.158\n",
      "29  sz_subway_od   AGCRN_OD   1.325  0.099\n",
      "32  sz_subway_od  ASTGCN_OD   2.698  0.127\n",
      "35  sz_subway_od  STGODE_OD   7.208  0.197\n",
      "38  sz_subway_od    ODMixer   5.277  0.287\n",
      "0     sz_taxi_od      HA_OD   0.519  0.099\n",
      "3     sz_taxi_od      HL_OD   0.399  0.116\n",
      "6     sz_taxi_od      ARIMA   0.536  0.099\n",
      "9     sz_taxi_od    LSTM_OD   1.022  0.181\n",
      "12    sz_taxi_od       GMEL   0.839  0.209\n",
      "15    sz_taxi_od   GWNET_OD   0.237  0.097\n",
      "18    sz_taxi_od   STGCN_OD   0.298  0.111\n",
      "21    sz_taxi_od      HMDLF   1.442  0.225\n",
      "24    sz_taxi_od     STZINB   0.259  0.120\n",
      "27    sz_taxi_od   AGCRN_OD   0.264  0.113\n",
      "30    sz_taxi_od  ASTGCN_OD   0.317  0.114\n",
      "33    sz_taxi_od  STGODE_OD   0.334  0.126\n",
      "36    sz_taxi_od    ODMixer   0.307  0.123\n"
     ]
    }
   ],
   "source": [
    "path=\"/home/dy23a.fsu/st/result\"\n",
    "rows = []\n",
    "for name in names:\n",
    "    for dataset in datasets:\n",
    "        path_=f\"{path}/{name}/{dataset}\"\n",
    "        if log:=get_log(path_):\n",
    "            res=read_log(log)\n",
    "            if res is None:\n",
    "                continue\n",
    "            row = {'Dataset': dataset, 'Model': name}\n",
    "            m = dict(re.findall(r'(\\w+): ([\\-\\d\\.]+)', res))\n",
    "            not_keys=[i for i in m.keys() if i not in metrics]\n",
    "            for i in not_keys:\n",
    "                del m[i]\n",
    "            \n",
    "            row.update(m)\n",
    "            rows.append(row)\n",
    "\n",
    "\n",
    "df = pd.DataFrame(rows)\n",
    "df['Model'] = df['Model'].astype(cat_type)\n",
    "df_sorted = df.sort_values(by=['Dataset','Model',])\n",
    "print(df_sorted)\n"
   ]
  },
  {
   "cell_type": "code",
   "execution_count": 7,
   "id": "94a145b2",
   "metadata": {},
   "outputs": [
    {
     "name": "stdout",
     "output_type": "stream",
     "text": [
      "        Model  taxi_MSE  taxi_MAE  bike_MSE  bike_MAE  subway_MSE  subway_MAE\n",
      "0       HA_OD     0.519     0.099     3.653     0.068      10.488       0.138\n",
      "1       HL_OD     0.399     0.116     2.788     0.156       9.330       0.244\n",
      "2       ARIMA     0.536     0.099     3.199     0.071      10.522       0.134\n",
      "3     LSTM_OD     1.022     0.181     6.139     0.176      10.188       0.215\n",
      "4        GMEL     0.839     0.209     6.336     0.279      10.590       0.259\n",
      "5    GWNET_OD     0.237     0.097     0.784     0.132       1.382       0.080\n",
      "6    STGCN_OD     0.298     0.111     3.053     0.184       6.545       0.210\n",
      "7       HMDLF     1.442     0.225     6.561     0.217      10.897       0.245\n",
      "8      STZINB     0.259     0.120     0.885     0.129       2.123       0.158\n",
      "9    AGCRN_OD     0.264     0.113     1.095     0.180       1.325       0.099\n",
      "10  ASTGCN_OD     0.317     0.114     1.502     0.188       2.698       0.127\n",
      "11  STGODE_OD     0.334     0.126     2.608     0.219       7.208       0.197\n",
      "12    ODMixer     0.307     0.123     3.476     0.314       5.277       0.287\n"
     ]
    }
   ],
   "source": [
    "df_sorted[\"Dataset\"] = df_sorted[\"Dataset\"].str.replace(\"sz_\", \"\").str.replace(\"_od\", \"\")  # 只保留 bike/taxi/subway\n",
    "df_sorted[[\"MSE\", \"MAE\"]] = df_sorted[[\"MSE\", \"MAE\"]].apply(pd.to_numeric)\n",
    "df_pivot = df_sorted.pivot_table(\n",
    "    index=\"Model\",\n",
    "    columns=\"Dataset\",\n",
    "    values=[\"MSE\", \"MAE\"],\n",
    "    observed=False\n",
    ")\n",
    "df_pivot.columns = [f\"{ds}_{metric}\" for metric, ds in df_pivot.columns]\n",
    "df_pivot = df_pivot.reset_index()\n",
    "col_order = [\"Model\",\"taxi_MSE\", \"taxi_MAE\", \"bike_MSE\", \"bike_MAE\", \"subway_MSE\", \"subway_MAE\"]\n",
    "df_pivot = df_pivot[col_order]\n",
    "print(df_pivot)"
   ]
  },
  {
   "cell_type": "code",
   "execution_count": null,
   "id": "89c1f143",
   "metadata": {},
   "outputs": [],
   "source": []
  },
  {
   "cell_type": "code",
   "execution_count": 26,
   "id": "fc4a0ce4",
   "metadata": {},
   "outputs": [],
   "source": []
  },
  {
   "cell_type": "code",
   "execution_count": null,
   "id": "521a338c",
   "metadata": {},
   "outputs": [],
   "source": []
  },
  {
   "cell_type": "code",
   "execution_count": null,
   "id": "ffbefc55",
   "metadata": {},
   "outputs": [],
   "source": []
  },
  {
   "cell_type": "code",
   "execution_count": null,
   "id": "81a7769d",
   "metadata": {},
   "outputs": [],
   "source": []
  },
  {
   "cell_type": "code",
   "execution_count": null,
   "id": "67d5e72f",
   "metadata": {},
   "outputs": [],
   "source": []
  },
  {
   "cell_type": "code",
   "execution_count": null,
   "id": "38492a72",
   "metadata": {},
   "outputs": [],
   "source": []
  },
  {
   "cell_type": "code",
   "execution_count": null,
   "id": "49e05f10",
   "metadata": {},
   "outputs": [],
   "source": []
  },
  {
   "cell_type": "code",
   "execution_count": null,
   "id": "780cfd81",
   "metadata": {},
   "outputs": [],
   "source": []
  }
 ],
 "metadata": {
  "kernelspec": {
   "display_name": "pytorch (3.12.6)",
   "language": "python",
   "name": "python3"
  },
  "language_info": {
   "codemirror_mode": {
    "name": "ipython",
    "version": 3
   },
   "file_extension": ".py",
   "mimetype": "text/x-python",
   "name": "python",
   "nbconvert_exporter": "python",
   "pygments_lexer": "ipython3",
   "version": "3.11.7"
  }
 },
 "nbformat": 4,
 "nbformat_minor": 5
}
