{
 "cells": [
  {
   "cell_type": "code",
   "execution_count": 1,
   "id": "7b731f4b",
   "metadata": {},
   "outputs": [],
   "source": [
    "import os\n",
    "import glob\n",
    "import re\n",
    "import pandas as pd\n",
    "from pandas.api.types import CategoricalDtype\n",
    "import numpy as np\n",
    "from datetime import datetime"
   ]
  },
  {
   "cell_type": "code",
   "execution_count": 2,
   "id": "0fead129",
   "metadata": {},
   "outputs": [],
   "source": [
    "def get_log(folder_path):\n",
    "    log_files = glob.glob(os.path.join(folder_path, '*.log'))\n",
    "    if not log_files:\n",
    "        return None\n",
    "    latest_file = max(log_files, key=os.path.getmtime)\n",
    "    return latest_file\n",
    "\n",
    "def read_log(log_path):\n",
    "    with open(log_path) as f:\n",
    "        content=f.readlines()[::-1]\n",
    "        for line in content:\n",
    "            if \" - Average:\" in line:\n",
    "                return line[31:-1]\n",
    "\n",
    "def seconds_between(t1: str, t2: str) -> int:\n",
    "    fmt = \"%Y-%m-%d %H:%M:%S\"\n",
    "    dt1 = datetime.strptime(t1, fmt)\n",
    "    dt2 = datetime.strptime(t2, fmt)\n",
    "    diff = (dt2 - dt1).total_seconds()\n",
    "    return int(abs(diff))\n",
    "\n",
    "def get_time(log_path):\n",
    "    with open(log_path) as f:\n",
    "        content=f.readlines()\n",
    "        t1=''\n",
    "        t2=''\n",
    "        for line in content:\n",
    "            if \" - Data shape:\" in line:\n",
    "                t1=line[:19]\n",
    "                continue\n",
    "            if \" - Average:\" in line:\n",
    "                t2=line[:19]\n",
    "                return seconds_between(t1,t2)\n",
    "\n",
    "def get_avg_time(log_path):\n",
    "    with open(log_path) as f:\n",
    "        content=f.readlines()\n",
    "        epoch = 1\n",
    "        t1=''\n",
    "        t2=''\n",
    "        for line in content:\n",
    "            if \" - Epoch: \" in line:\n",
    "                epoch=int(line.split(',')[0].split()[-1])\n",
    "            if \" - Data shape:\" in line:\n",
    "                t1=line[:19]\n",
    "                continue\n",
    "            if \" - Average:\" in line:\n",
    "                t2=line[:19]\n",
    "                return \"%.2f\"%(seconds_between(t1,t2)/epoch)\n",
    "            \n",
    "\n",
    "def get_parameter(log_path):\n",
    "    with open(log_path) as f:\n",
    "        content=f.readlines()\n",
    "        for line in content:\n",
    "            if \"The number of parameters:\" in line:\n",
    "                return line.split()[-1]\n",
    "    return 0"
   ]
  },
  {
   "cell_type": "code",
   "execution_count": null,
   "id": "e9a2f805",
   "metadata": {},
   "outputs": [],
   "source": []
  },
  {
   "cell_type": "code",
   "execution_count": 42,
   "id": "fd771231",
   "metadata": {},
   "outputs": [],
   "source": [
    "names=[\"HL\",\"STGCN\",\"GWNET\",\"ASTGCN\",\"AGCRN\",\"STGODE\",\"STTN\",\"DCRNN\",\"DSTAGNN\",\"LSTM\",\"TrustEnergy\"]\n",
    "metrics=[\"MAE\",\"RMSE\",\"MAPE\",\"MPIW\",\"WINK\",\"COV\"]\n",
    "datasets=[\"panhandle\"]\n",
    "cat_type = CategoricalDtype(categories=names, ordered=True)"
   ]
  },
  {
   "cell_type": "code",
   "execution_count": 4,
   "id": "9e41b4a2",
   "metadata": {},
   "outputs": [],
   "source": [
    "names=[\"ARIMA\",\"SARIMA\"]\n",
    "metrics=[\"MSE\",\"MAE\"]\n",
    "datasets=[\"sz_taxi_od\",\"sz_bike_od\",\"sz_subway_od\",] #\n",
    "cat_type = CategoricalDtype(categories=names, ordered=True)"
   ]
  },
  {
   "cell_type": "code",
   "execution_count": 3,
   "id": "da6c2f0c",
   "metadata": {},
   "outputs": [],
   "source": [
    "names=[\"HA_OD\",\"HL_OD\",\"ARIMA\",\"SARIMA\",\"LSTM_OD\",\"GMEL\",\"GWNET_OD\",\"STGCN_OD\",\"HMDLF\",\"MPGCN_OD\",\"STZINB\",\"STTN\",\"AGCRN_OD\",\"ASTGCN_OD\",\"STGODE_OD\",\"ODMixer\"]\n",
    "metrics=[\"MSE\",\"MAE\"]\n",
    "datasets=[\"sz_taxi_od\",\"sz_bike_od\",\"sz_subway_od\",] #\n",
    "cat_type = CategoricalDtype(categories=names, ordered=True)"
   ]
  },
  {
   "cell_type": "code",
   "execution_count": 8,
   "id": "f64d78df",
   "metadata": {},
   "outputs": [],
   "source": [
    "names=[\"HA_OD\",\"HL_OD\",\"ARIMA\",\"SARIMA\",\"LSTM_OD\",\"GMEL\",\"GWNET_OD\",\"STGCN_OD\",\"HMDLF\",\"MPGCN_OD\",\"STZINB\",\"STTN\",\"AGCRN_OD\",\"ASTGCN_OD\",\"STGODE_OD\",\"ODMixer\"]\n",
    "metrics=[\"MSE\",\"MAE\"]\n",
    "datasets=[\"nyc_taxi_od\",\"nyc_bike_od\",\"nyc_subway_od\",] #\n",
    "cat_type = CategoricalDtype(categories=names, ordered=True)"
   ]
  },
  {
   "cell_type": "code",
   "execution_count": 7,
   "id": "d0f0c01e",
   "metadata": {},
   "outputs": [],
   "source": [
    "names=[\"GWNET_OD\",\"STZINB\",\"AGCRN_OD\"]\n",
    "metrics=[\"MSE\",\"MAE\"]\n",
    "datasets=[\"sz_subway_bike_od\",\"sz_subway_taxi_od\"] #\n",
    "cat_type = CategoricalDtype(categories=names, ordered=True)"
   ]
  },
  {
   "cell_type": "code",
   "execution_count": 8,
   "id": "1b836f4a",
   "metadata": {},
   "outputs": [],
   "source": [
    "path=\"/home/dy23a.fsu/st/result/cross\""
   ]
  },
  {
   "cell_type": "code",
   "execution_count": 4,
   "id": "0410fa92",
   "metadata": {},
   "outputs": [],
   "source": [
    "path=\"/home/dy23a.fsu/st/result/sz\""
   ]
  },
  {
   "cell_type": "code",
   "execution_count": 6,
   "id": "f485f704",
   "metadata": {},
   "outputs": [],
   "source": [
    "path=\"/blue/gtyson.fsu/dy23a.fsu/result/result/\""
   ]
  },
  {
   "cell_type": "code",
   "execution_count": 9,
   "id": "70a0c6ca",
   "metadata": {},
   "outputs": [],
   "source": [
    "path=\"/home/dy23a.fsu/st/result/nyc\""
   ]
  },
  {
   "cell_type": "code",
   "execution_count": 10,
   "id": "9b3fdcff",
   "metadata": {},
   "outputs": [
    {
     "name": "stdout",
     "output_type": "stream",
     "text": [
      "          Dataset      Model     MSE    MAE     time   param\n",
      "1     nyc_bike_od      HA_OD   0.068  0.048     1.00       0\n",
      "4     nyc_bike_od      HL_OD   0.023  0.027     0.57       7\n",
      "7     nyc_bike_od      ARIMA   0.111  0.140  2123.00       0\n",
      "10    nyc_bike_od     SARIMA   0.238    NaN  1482.00       0\n",
      "13    nyc_bike_od    LSTM_OD   0.155  0.234     0.62   21473\n",
      "16    nyc_bike_od       GMEL   0.146  0.221     1.65  330241\n",
      "19    nyc_bike_od   GWNET_OD   0.057  0.131     0.96  153855\n",
      "22    nyc_bike_od   STGCN_OD   0.105  0.185     0.90  157379\n",
      "25    nyc_bike_od      HMDLF   0.235  0.293     3.52  290060\n",
      "28    nyc_bike_od   MPGCN_OD   0.074  0.162    14.85    1154\n",
      "31    nyc_bike_od     STZINB   0.022  0.027     0.73   50484\n",
      "34    nyc_bike_od   AGCRN_OD   0.122  0.204     1.23  203945\n",
      "37    nyc_bike_od  ASTGCN_OD   0.124  0.210     0.93  112490\n",
      "40    nyc_bike_od    ODMixer   0.023  0.042     0.79  447011\n",
      "2   nyc_subway_od      HA_OD   0.000  0.000     3.00       0\n",
      "5   nyc_subway_od      HL_OD   0.002  0.026     0.77       7\n",
      "8   nyc_subway_od      ARIMA   1.778  0.308  2394.00       0\n",
      "11  nyc_subway_od     SARIMA   5.420  0.715   916.00       0\n",
      "14  nyc_subway_od    LSTM_OD   0.728  0.490     0.57   21473\n",
      "17  nyc_subway_od       GMEL   2.819  0.818     1.63  330241\n",
      "20  nyc_subway_od   GWNET_OD   0.010  0.054     0.93  153855\n",
      "23  nyc_subway_od   STGCN_OD   0.080  0.156     0.84  157379\n",
      "26  nyc_subway_od      HMDLF  12.350  1.831     3.50  290060\n",
      "29  nyc_subway_od   MPGCN_OD   1.813  0.554    14.80    1154\n",
      "32  nyc_subway_od     STZINB   0.006  0.061     0.77   50484\n",
      "35  nyc_subway_od   AGCRN_OD   0.115  0.184     1.13  203945\n",
      "38  nyc_subway_od  ASTGCN_OD   0.049  0.122     0.89  112490\n",
      "41  nyc_subway_od    ODMixer   0.039  0.152     0.71  447011\n",
      "0     nyc_taxi_od      HA_OD   0.917  0.340     4.00       0\n",
      "3     nyc_taxi_od      HL_OD   0.379  0.224     1.71       7\n",
      "6     nyc_taxi_od      ARIMA   0.925  0.543  1740.00       0\n",
      "9     nyc_taxi_od     SARIMA   1.894    NaN  1674.00       0\n",
      "12    nyc_taxi_od    LSTM_OD   0.963  0.655     1.65   21473\n",
      "15    nyc_taxi_od       GMEL   1.012  0.643     3.75  330241\n",
      "18    nyc_taxi_od   GWNET_OD   0.581  0.446     2.24  153855\n",
      "21    nyc_taxi_od   STGCN_OD   0.762  0.546     0.78  157379\n",
      "24    nyc_taxi_od      HMDLF   1.270  0.752     3.41  290060\n",
      "27    nyc_taxi_od   MPGCN_OD   0.663  0.506    14.98    1154\n",
      "30    nyc_taxi_od     STZINB   0.339  0.195     0.80   50484\n",
      "33    nyc_taxi_od   AGCRN_OD   0.861  0.600     3.40  203945\n",
      "36    nyc_taxi_od  ASTGCN_OD   0.886  0.610     5.63  112490\n",
      "39    nyc_taxi_od    ODMixer   0.361  0.226     0.74  447011\n"
     ]
    }
   ],
   "source": [
    "rows = []\n",
    "for name in names:\n",
    "    for dataset in datasets:\n",
    "        path_=f\"{path}/{name}/{dataset}\"\n",
    "        if log:=get_log(path_):\n",
    "            res=read_log(log)\n",
    "            time_=get_avg_time(log)\n",
    "            param_=get_parameter(log)\n",
    "            if res is None:\n",
    "                continue\n",
    "            row = {'Dataset': dataset, 'Model': name}\n",
    "            m = dict(re.findall(r'(\\w+): ([\\-\\d\\.]+)', res))\n",
    "            not_keys=[i for i in m.keys() if i not in metrics]\n",
    "            for i in not_keys:\n",
    "                del m[i]\n",
    "            \n",
    "            row.update(m)\n",
    "            row.update({'time':time_, 'param':param_})\n",
    "            rows.append(row)\n",
    "\n",
    "\n",
    "df = pd.DataFrame(rows)\n",
    "df['Model'] = df['Model'].astype(cat_type)\n",
    "df_sorted = df.sort_values(by=['Dataset','Model',])\n",
    "print(df_sorted)\n"
   ]
  },
  {
   "cell_type": "code",
   "execution_count": 11,
   "id": "94a145b2",
   "metadata": {},
   "outputs": [
    {
     "name": "stdout",
     "output_type": "stream",
     "text": [
      "        Model  taxi_MSE  taxi_MAE  bike_MSE  bike_MAE  subway_MSE  subway_MAE\n",
      "0       HA_OD     0.917     0.340     0.068     0.048       0.000       0.000\n",
      "1       HL_OD     0.379     0.224     0.023     0.027       0.002       0.026\n",
      "2       ARIMA     0.925     0.543     0.111     0.140       1.778       0.308\n",
      "3      SARIMA     1.894       NaN     0.238       NaN       5.420       0.715\n",
      "4     LSTM_OD     0.963     0.655     0.155     0.234       0.728       0.490\n",
      "5        GMEL     1.012     0.643     0.146     0.221       2.819       0.818\n",
      "6    GWNET_OD     0.581     0.446     0.057     0.131       0.010       0.054\n",
      "7    STGCN_OD     0.762     0.546     0.105     0.185       0.080       0.156\n",
      "8       HMDLF     1.270     0.752     0.235     0.293      12.350       1.831\n",
      "9    MPGCN_OD     0.663     0.506     0.074     0.162       1.813       0.554\n",
      "10     STZINB     0.339     0.195     0.022     0.027       0.006       0.061\n",
      "11   AGCRN_OD     0.861     0.600     0.122     0.204       0.115       0.184\n",
      "12  ASTGCN_OD     0.886     0.610     0.124     0.210       0.049       0.122\n",
      "13    ODMixer     0.361     0.226     0.023     0.042       0.039       0.152\n"
     ]
    }
   ],
   "source": [
    "# df_sorted[\"Dataset\"] = df_sorted[\"Dataset\"].str.replace(\"sz_\", \"\").str.replace(\"_od\", \"\")  # 只保留 bike/taxi/subway\n",
    "df_sorted[\"Dataset\"] = df_sorted[\"Dataset\"].str.replace(\"nyc_\", \"\").str.replace(\"_od\", \"\")\n",
    "df_sorted[[\"MSE\", \"MAE\"]] = df_sorted[[\"MSE\", \"MAE\"]].apply(pd.to_numeric)\n",
    "df_pivot = df_sorted.pivot_table(\n",
    "    index=\"Model\",\n",
    "    columns=\"Dataset\",\n",
    "    values=[\"MSE\", \"MAE\"],\n",
    "    observed=False\n",
    ")\n",
    "df_pivot.columns = [f\"{ds}_{metric}\" for metric, ds in df_pivot.columns]\n",
    "df_pivot = df_pivot.reset_index()\n",
    "col_order = [\"Model\",\"taxi_MSE\", \"taxi_MAE\", \"bike_MSE\", \"bike_MAE\", \"subway_MSE\", \"subway_MAE\"]\n",
    "df_pivot = df_pivot[col_order]\n",
    "print(df_pivot)"
   ]
  },
  {
   "cell_type": "code",
   "execution_count": 7,
   "id": "89c1f143",
   "metadata": {},
   "outputs": [
    {
     "name": "stdout",
     "output_type": "stream",
     "text": [
      "        Model  taxi_param  taxi_time  bike_time  subway_time\n",
      "0       HA_OD         0.0       6.00       6.00         6.00\n",
      "1       HL_OD         7.0       4.45       4.33         4.20\n",
      "2       ARIMA         0.0   17533.00   20763.00     22721.00\n",
      "3      SARIMA         0.0    9563.00   10819.00     11672.00\n",
      "4     LSTM_OD     21473.0       5.35       5.52         5.29\n",
      "5        GMEL    330241.0       7.13       6.87         6.81\n",
      "6    GWNET_OD    230599.0       4.77       4.85         4.41\n",
      "7    STGCN_OD    564843.0       4.85       5.17         4.89\n",
      "8       HMDLF   2118772.0      13.05      13.30        13.40\n",
      "9    MPGCN_OD      1154.0     121.08     121.50       120.81\n",
      "10     STZINB    213724.0       5.84       6.10         5.88\n",
      "11   AGCRN_OD    829345.0       4.81       4.57         4.53\n",
      "12  ASTGCN_OD   1598610.0       4.79       4.61         4.54\n",
      "13    ODMixer  23243795.0       6.30       6.38         6.18\n"
     ]
    }
   ],
   "source": [
    "df_sorted[\"Dataset\"] = df_sorted[\"Dataset\"].str.replace(\"sz_\", \"\").str.replace(\"_od\", \"\")  # 只保留 bike/taxi/subway\n",
    "df_sorted[[\"time\", \"param\"]] = df_sorted[[\"time\", \"param\"]].apply(pd.to_numeric)\n",
    "df_pivot = df_sorted.pivot_table(\n",
    "    index=\"Model\",\n",
    "    columns=\"Dataset\",\n",
    "    values=[\"time\", \"param\"],\n",
    "    observed=False\n",
    ")\n",
    "df_pivot.columns = [f\"{ds}_{metric}\" for metric, ds in df_pivot.columns]\n",
    "df_pivot = df_pivot.reset_index()\n",
    "col_order = [\"Model\",\"taxi_param\", \"taxi_time\", \"bike_time\", \"subway_time\"]\n",
    "# col_order = [\"Model\",\"taxi_time\", \"taxi_param\", \"bike_time\", \"bike_param\", \"subway_time\", \"subway_param\"]\n",
    "df_pivot = df_pivot[col_order]\n",
    "print(df_pivot)"
   ]
  },
  {
   "cell_type": "code",
   "execution_count": 26,
   "id": "fc4a0ce4",
   "metadata": {},
   "outputs": [],
   "source": []
  },
  {
   "cell_type": "code",
   "execution_count": null,
   "id": "521a338c",
   "metadata": {},
   "outputs": [],
   "source": []
  },
  {
   "cell_type": "code",
   "execution_count": null,
   "id": "ffbefc55",
   "metadata": {},
   "outputs": [],
   "source": []
  },
  {
   "cell_type": "code",
   "execution_count": null,
   "id": "81a7769d",
   "metadata": {},
   "outputs": [],
   "source": []
  },
  {
   "cell_type": "code",
   "execution_count": null,
   "id": "67d5e72f",
   "metadata": {},
   "outputs": [],
   "source": []
  },
  {
   "cell_type": "code",
   "execution_count": null,
   "id": "38492a72",
   "metadata": {},
   "outputs": [],
   "source": []
  },
  {
   "cell_type": "code",
   "execution_count": null,
   "id": "49e05f10",
   "metadata": {},
   "outputs": [],
   "source": []
  },
  {
   "cell_type": "code",
   "execution_count": null,
   "id": "780cfd81",
   "metadata": {},
   "outputs": [],
   "source": []
  }
 ],
 "metadata": {
  "kernelspec": {
   "display_name": "pytorch (3.12.6)",
   "language": "python",
   "name": "python3"
  },
  "language_info": {
   "codemirror_mode": {
    "name": "ipython",
    "version": 3
   },
   "file_extension": ".py",
   "mimetype": "text/x-python",
   "name": "python",
   "nbconvert_exporter": "python",
   "pygments_lexer": "ipython3",
   "version": "3.11.7"
  }
 },
 "nbformat": 4,
 "nbformat_minor": 5
}
